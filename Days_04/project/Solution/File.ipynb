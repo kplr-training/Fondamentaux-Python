{
  "cells": [
    {
      "cell_type": "markdown",
      "metadata": {
        "id": "FKvgiBHZOxfv"
      },
      "source": [
        "#Exercice 1\n",
        "\n",
        "    Ecrire un programme Python qui permet de créer un fichier sur le bureau nommé monFichier.txt et d'écrire le texte T=\"Python est un langage de programmation orienté objet\".\n",
        "    Ecrire un programme Python qui permet lire le fichier  monFichier.txt.\n"
      ]
    },
    {
      "cell_type": "code",
      "execution_count": null,
      "metadata": {
        "id": "XTFPz4KvOqwh"
      },
      "outputs": [],
      "source": [
        "#Question1\n",
        "\n",
        "#coding:utf-8\n",
        "import os\n",
        "\n",
        "os.mkdir(\"desktop/\")\n",
        "os.chdir(\"desktop/\")\n",
        "\n",
        "# création du fichier monFichier.txt\n",
        "f = open(\"monFichier.txt\" , 'w')\n",
        "\n",
        "# écrire sur le fichier\n",
        "f.write(\"Python est un langage de programmation orienté objet\")\n",
        "\n",
        "f.close()"
      ]
    },
    {
      "cell_type": "code",
      "execution_count": null,
      "metadata": {
        "colab": {
          "base_uri": "https://localhost:8080/"
        },
        "id": "xmY_YuFtOYl1",
        "outputId": "f47b4b68-2828-4116-fe12-8b4991b3f1f6"
      },
      "outputs": [
        {
          "name": "stdout",
          "output_type": "stream",
          "text": [
            "Python est un langage de programmation orienté objet\n"
          ]
        }
      ],
      "source": [
        "#Question2\n",
        "\n",
        "#coding:utf-8\n",
        "import os\n",
        "\n",
        "# ouverture du fichier monFichier.txt en mode lecture\n",
        "f = open(\"monFichier.txt\" , 'r')\n",
        "\n",
        "# récupération du contenu du fichier  monFichier.txt\n",
        "content = f.read()\n",
        "\n",
        "print(content)\n",
        "\n",
        "f.close()"
      ]
    },
    {
      "cell_type": "markdown",
      "metadata": {
        "id": "IGMOrWt7PIB8"
      },
      "source": [
        "# Exercice 2\n",
        "\n",
        "En utilisant les modules os et chdir en mode console, donner les commandes qui permettent de créer un fichier nommé monFichier.txt sur le bureau"
      ]
    },
    {
      "cell_type": "code",
      "execution_count": null,
      "metadata": {
        "id": "rwjhrKfGPU2E"
      },
      "outputs": [],
      "source": [
        "import os\n",
        "from os import chdir"
      ]
    },
    {
      "cell_type": "code",
      "execution_count": null,
      "metadata": {
        "id": "SI2NrQvpPUkD"
      },
      "outputs": [],
      "source": [
        "f = open(\"moFichier.txt\",'w')"
      ]
    },
    {
      "cell_type": "code",
      "execution_count": null,
      "metadata": {
        "id": "VOHxvx1uPUe0"
      },
      "outputs": [],
      "source": [
        "f.write(\"Je suis entrian d'apprendre python avec Yahia\")"
      ]
    },
    {
      "cell_type": "code",
      "execution_count": null,
      "metadata": {
        "id": "mgD22081PMGi"
      },
      "outputs": [],
      "source": [
        "f.close()"
      ]
    },
    {
      "cell_type": "markdown",
      "metadata": {
        "id": "OGzAVX0LPnp7"
      },
      "source": [
        "# Exercice 3\n",
        "\n",
        "    Ecrire un programme Python qui permet de créer un fichier sur le bureau nommé monFichier.txt \n",
        "    En utilisant la méthode os.rename(), créer un programme python permettant de renommer le fichier monFichier.txt en myFile.txt.\n"
      ]
    },
    {
      "cell_type": "code",
      "execution_count": null,
      "metadata": {
        "colab": {
          "base_uri": "https://localhost:8080/",
          "height": 130
        },
        "id": "26zksb4WPrie",
        "outputId": "d12a0d15-a8e9-44d5-eb78-e4924c738b14"
      },
      "outputs": [
        {
          "ename": "SyntaxError",
          "evalue": "ignored",
          "output_type": "error",
          "traceback": [
            "\u001b[0;36m  File \u001b[0;32m\"<ipython-input-8-db0f7286a88d>\"\u001b[0;36m, line \u001b[0;32m3\u001b[0m\n\u001b[0;31m    \u001b[0m\n\u001b[0m    ^\u001b[0m\n\u001b[0;31mSyntaxError\u001b[0m\u001b[0;31m:\u001b[0m invalid character in identifier\n"
          ]
        }
      ],
      "source": [
        "#Question 1\n",
        "#coding:utf-8\n",
        "import os\n",
        "\n",
        "# création du fichier monFichier.txt\n",
        "f = open(\"C:/users/\" + user + \"/desktop/monFichier.txt\" , 'w')\n",
        "\n",
        "f.close()"
      ]
    },
    {
      "cell_type": "code",
      "execution_count": null,
      "metadata": {
        "id": "iRY4NQlZZEQO"
      },
      "outputs": [],
      "source": [
        "#Question 2\n",
        "#coding:utf-8\n",
        "import os\n",
        " \n",
        "\n",
        "\n",
        " \n",
        "# chemin vers le fichier source  monFichier.txt\n",
        "src = \"C:/users/\" + user + \"/desktop/monFichier.txt\" \n",
        " \n",
        "# chemin vers le fichier de destination\n",
        "dest = \"C:/users/\" + user + \"/desktop/myFile.txt\"\n",
        " \n",
        "# renommer le fichier\n",
        "os.rename(src , dest)\n",
        " "
      ]
    },
    {
      "cell_type": "markdown",
      "metadata": {
        "id": "DE54jHXYSSAC"
      },
      "source": [
        "# Exercice 4 \n",
        "Ecrire  un programme Python permettant de créer un fichier sur le bureau nommé \"myFile.txt\"\n",
        "Ecrire un programme Python qui permet de créer un répertoire sur le bureau nommé \"new\"\n",
        "Ecrire un programme Python qui permet  de déplacer le fichier \"myFile.txt\" vers le répertoire \"new\""
      ]
    },
    {
      "cell_type": "code",
      "execution_count": null,
      "metadata": {
        "colab": {
          "base_uri": "https://localhost:8080/",
          "height": 235
        },
        "id": "44vsD4wrSYPt",
        "outputId": "58523275-8f51-41b3-fa46-25eb1652e56b"
      },
      "outputs": [
        {
          "ename": "OSError",
          "evalue": "ignored",
          "output_type": "error",
          "traceback": [
            "\u001b[0;31m---------------------------------------------------------------------------\u001b[0m",
            "\u001b[0;31mOSError\u001b[0m                                   Traceback (most recent call last)",
            "\u001b[0;32m<ipython-input-7-7e0efdfd6e93>\u001b[0m in \u001b[0;36m<module>\u001b[0;34m\u001b[0m\n\u001b[1;32m      3\u001b[0m \u001b[0;34m\u001b[0m\u001b[0m\n\u001b[1;32m      4\u001b[0m \u001b[0;31m# récupération du nom d'utilisateur\u001b[0m\u001b[0;34m\u001b[0m\u001b[0;34m\u001b[0m\u001b[0;34m\u001b[0m\u001b[0m\n\u001b[0;32m----> 5\u001b[0;31m \u001b[0muser\u001b[0m \u001b[0;34m=\u001b[0m \u001b[0mos\u001b[0m\u001b[0;34m.\u001b[0m\u001b[0mgetlogin\u001b[0m\u001b[0;34m(\u001b[0m\u001b[0;34m)\u001b[0m\u001b[0;34m\u001b[0m\u001b[0;34m\u001b[0m\u001b[0m\n\u001b[0m\u001b[1;32m      6\u001b[0m \u001b[0;34m\u001b[0m\u001b[0m\n\u001b[1;32m      7\u001b[0m \u001b[0;31m# création du fichier myFile.txt\u001b[0m\u001b[0;34m\u001b[0m\u001b[0;34m\u001b[0m\u001b[0;34m\u001b[0m\u001b[0m\n",
            "\u001b[0;31mOSError\u001b[0m: [Errno 6] No such device or address"
          ]
        }
      ],
      "source": [
        "#Question1\n",
        "#coding:utf-8\n",
        "import os\n",
        "\n",
        "\n",
        "\n",
        "\n",
        "# création du fichier myFile.txt\n",
        "f = open(\"C:/users/\" + user + \"/desktop/myFile.txt\" , 'w')\n",
        "\n",
        "f.close()\n"
      ]
    },
    {
      "cell_type": "code",
      "execution_count": null,
      "metadata": {
        "id": "6mpBtb_9Yuso"
      },
      "outputs": [],
      "source": [
        "#Question2\n",
        "#coding:utf-8\n",
        "import os\n",
        " \n",
        "\n",
        "\n",
        " \n",
        "# création du répertoire new\n",
        "path =  \"C:/users/\" + user + \"/desktop/new\"\n",
        "os.mkdir(path)"
      ]
    },
    {
      "cell_type": "code",
      "execution_count": null,
      "metadata": {
        "id": "ETmyeGM6Y09r"
      },
      "outputs": [],
      "source": [
        "#Question3\n",
        "#coding:utf-8\n",
        "import os\n",
        "import shutil\n",
        " \n",
        "\n",
        "\n",
        " \n",
        "# chemin vers le fichier source  myFile.txt\n",
        "src = \"C:/users/\" + user + \"/desktop/myFile.txt\" \n",
        " \n",
        "# chemin vers le fichier de destination\n",
        "dest = \"C:/users/\" + user + \"/desktop/new/myFile.txt\"\n",
        " \n",
        "shutil.move(src, dest)"
      ]
    },
    {
      "cell_type": "markdown",
      "metadata": {
        "id": "yJtAbr-SS7QB"
      },
      "source": [
        "# Exercice 5\n",
        "Écrire un programme en Python qui permet de créer un fichier nommé myFile.txt et d'ajouter les lignes suivantes:\n",
        "Ligne numéro 1\n",
        "Ligne numéro 2\n",
        "Ligne numéro 3\n",
        "Ligne numéro 4\n",
        "Ligne numéro 5\n",
        "Écrire un programme en Python qui permet de remplacer la 3ème ligne par la phrase ''désolé ! Le contenu de cette ligne a été changé !''"
      ]
    },
    {
      "cell_type": "code",
      "execution_count": null,
      "metadata": {
        "id": "ZsCAhiotTAqX"
      },
      "outputs": [],
      "source": [
        "#Question 1\n",
        "#coding:utf-8\n",
        " \n",
        "# création du fichier myFile.txt\n",
        "f = open(\"myFile.txt\" , \"w\")\n",
        " \n",
        "# ajout des lignes au fichier myFile.txt\n",
        "liste_ligne = [\"Ligne numéro 1\\n\" , \"Ligne numéro 2\\n\",\"Ligne numéro 3\\n\", \"Ligne numéro 4\\n\", \"Ligne numéro 5\\n\"]\n",
        "f.writelines(liste_ligne)\n",
        " \n",
        "f.close()"
      ]
    },
    {
      "cell_type": "code",
      "execution_count": null,
      "metadata": {
        "id": "OHTOoyLSYfiH"
      },
      "outputs": [],
      "source": [
        "#Question 2\n",
        "#coding:utf-8\n",
        "import os\n",
        " \n",
        "# ouverture du fichier myFile.txt en mode lecture\n",
        "f = open(\"myFile.txt\" , \"r\")\n",
        " \n",
        "# récupération du contenu sous forme de liste\n",
        "content = f.readlines()\n",
        " \n",
        "# modification de la troizième ligne\n",
        "content[2] = \"désolé ! Le contenu de cette ligne a été changé !\\n\"\n",
        " \n",
        "f.close()\n",
        " \n",
        "# ouverture du fichier en mode écriture avec ecrasement de contenu\n",
        "f = open(\"myFile.txt\" , \"w\")\n",
        " \n",
        "# ajout du nouveau contenu\n",
        "f.writelines(content)\n",
        " \n",
        "# lancer le fichier et voir le contenu\n",
        "os.startfile(\"myFile.txt\")\n",
        " \n",
        "f.close()"
      ]
    },
    {
      "cell_type": "markdown",
      "metadata": {
        "id": "gryq2b5xTUzd"
      },
      "source": [
        "# Exercice 6 \n",
        "Écrire un programme Python qui permet de créer un fichier nommé myFile.txt et d'y écrire le texte suivant: \"Python est un langage de programmation souple et flexible.\"\n",
        "Écrire un programme en Python qui permet d'ajouter à la fin du fichier myFile.txt le contenu suivant: ''Ce contenu a été ajouté via un code Python ! ''."
      ]
    },
    {
      "cell_type": "code",
      "execution_count": null,
      "metadata": {
        "id": "N2iKa5JjTcYU"
      },
      "outputs": [],
      "source": [
        "#Question 1\n",
        "# coding: utf-8\n",
        "\n",
        "# ouvrire le fichier myFile.txt en mode write\n",
        "f = open(\"myFile.txt\" , 'w')\n",
        "\n",
        "# écrire dans le fichier myFile.txt\n",
        "f.write(\"Python est un langage de programmation souple et flexible.\")\n",
        "f.close()\n"
      ]
    },
    {
      "cell_type": "code",
      "execution_count": null,
      "metadata": {
        "id": "RqUiNCRMYFdw"
      },
      "outputs": [],
      "source": [
        "#Question 2\n",
        "# coding: utf-8\n",
        "# ouvrire le fichier myFile.txt en mode append\n",
        "f = open(\"myFile.txt\" , 'a')\n",
        " \n",
        "# ajout du contenu à la fin du fichier\n",
        "f.write(\"Ce contenu a été ajouté via un code Python !\")\n",
        " \n",
        "# fermer le fichier\n",
        "f.close()"
      ]
    },
    {
      "cell_type": "markdown",
      "metadata": {
        "id": "sqqtR95fTq53"
      },
      "source": [
        "# Exercice 7\n",
        "Écrire un programme Python permettant de créer un fichier nommé myFile.txt et d'y écrire le texte suivant:\n",
        "\"Python est le meilleur langage de programmation\"\n",
        "Écrire un programme Python qui supprime le 5ème mot du fichier myFile.txt"
      ]
    },
    {
      "cell_type": "code",
      "execution_count": null,
      "metadata": {
        "id": "sWc-oewMTxRd"
      },
      "outputs": [],
      "source": [
        "#Question 1\n",
        "# coding: utf-8\n",
        " \n",
        "# ouvrire le fichier myFile.txt en mode write\n",
        "f = open(\"myFile.txt\" , 'w')\n",
        " \n",
        "# écrire dans le fichier myFile.txt\n",
        "f.write(\"Python est le meilleur langage de programmation\")\n",
        "f.close()"
      ]
    },
    {
      "cell_type": "code",
      "execution_count": null,
      "metadata": {
        "id": "mg-fkkgJXyja"
      },
      "outputs": [],
      "source": [
        "#Question 2\n",
        "# coding: utf-8\n",
        "# ouvrire le fichier myFile.txt en mode lecture\n",
        "f = open(\"myFile.txt\" , 'r')\n",
        " \n",
        "# récupération du contenu du fichier\n",
        "content = f.read()\n",
        " \n",
        "# transformation du contenu en une liste de mots\n",
        "L = content.split()\n",
        " \n",
        "# suppression du 5 ème mot\n",
        "L.pop(4)\n",
        " \n",
        "# recréation du contenu\n",
        "f = open(\"myFile.txt\" , 'w')\n",
        "for mot in L:\n",
        "    f.write(mot + \" \")\n",
        "    \n",
        "f.close()\n",
        "# maintenant si on ouvre le fichie, on y trouve la phrase:\n",
        "# \"Python est le meilleur de programmation\" "
      ]
    },
    {
      "cell_type": "markdown",
      "metadata": {
        "id": "R4mzeFT2T5MP"
      },
      "source": [
        "# Exercice 8 \n",
        "1) - Écrire un programme en Python qui permet de créer un fichier nommé myFile.txt et d'ajouter les lignes suivantes:\n",
        "Python Programming\n",
        "Java Programming\n",
        "C++ Programming\n",
        "2) - Écrire un programme en Python qui permet d'échanger la troisième ligne avec la deuxième ligne du fichier myFile.txt."
      ]
    },
    {
      "cell_type": "code",
      "execution_count": null,
      "metadata": {
        "id": "oLIE3bUmUAeW"
      },
      "outputs": [],
      "source": [
        "#Question 1\n",
        "#coding:utf-8\n",
        " \n",
        "# création du fichier myFile.txt\n",
        "f = open(\"myFile.txt\" , \"w\")\n",
        " \n",
        "# ajout des lignes au fichier myFile.txt\n",
        "liste_ligne = [\"Python Programming\\n\" \"Java Programming\\n\" , \"C++ Programming\\n\" ]\n",
        "f.writelines(liste_ligne)\n",
        " \n",
        "f.close()\n"
      ]
    },
    {
      "cell_type": "code",
      "execution_count": null,
      "metadata": {
        "id": "4oULGzJ2Xfmo"
      },
      "outputs": [],
      "source": [
        "#Question 2\n",
        "#coding:utf-8\n",
        "import os\n",
        " \n",
        "# ouverture du fichier myFile.txt en mode lecture\n",
        "f = open(\"myFile.txt\" , \"r\")\n",
        " \n",
        "# récupération du contenu sous forme de liste\n",
        "content = f.readlines()\n",
        " \n",
        "# récupération de la 2ème et 3ème ligne\n",
        "ligne2 = content[1] \n",
        "ligne3 = content[2]\n",
        " \n",
        "# échanger la  2ème et 3ème ligne\n",
        "content[1] = ligne3\n",
        "content[2] = ligne2\n",
        " \n",
        "f.close()\n",
        " \n",
        "# ouverture du fichier en mode écriture avec ecrasement de contenu\n",
        "f = open(\"myFile.txt\" , \"w\")\n",
        " \n",
        "# ajout du nouveau contenu\n",
        "f.writelines(content)\n",
        " \n",
        "# lancer le fichier et voir le contenu\n",
        "os.startfile(\"myFile.txt\")\n",
        " \n",
        "f.close()"
      ]
    },
    {
      "cell_type": "markdown",
      "metadata": {
        "id": "PuPxvEb9UKyq"
      },
      "source": [
        "# Exercice 9\n",
        "Écrire un algorithme en Python qui permet de créer un fichier nommé myFile.txt et d'ajouter le texte: T = \"Python est langage de programmation de haut niveau\"\n",
        "Écrire un programme en Python qui transforme le contenu du fichier myFile.txt en écrivant chaque mot dans une ligne séparée."
      ]
    },
    {
      "cell_type": "code",
      "execution_count": null,
      "metadata": {
        "id": "PouW50bmUQk0"
      },
      "outputs": [],
      "source": [
        "#Question 1\n",
        "# coding: utf-8\n",
        "\n",
        "# ouvrire le fichier myFile.txt en mode write\n",
        "f = open(\"myFile.txt\" , 'w')\n",
        "\n",
        "# écrire dans le fichier myFile.txt\n",
        "f.write(\"Python est langage de programmation de haut niveau\")\n",
        "f.close()"
      ]
    },
    {
      "cell_type": "code",
      "execution_count": null,
      "metadata": {
        "id": "xAiGtfl2XMNh"
      },
      "outputs": [],
      "source": [
        "#Question 2\n",
        "# coding: utf-8\n",
        "# ouvrire le fichier myFile.txt en mode read\n",
        "f = open(\"myFile.txt\" , 'r')\n",
        " \n",
        "# récupération du contenu du fichier\n",
        "content = f.read()\n",
        " \n",
        "# transformer le contenu en une liste\n",
        "listContent = content.split()\n",
        " \n",
        "# fermer le fichier\n",
        "f.close()\n",
        " \n",
        "# ouvrire le fichier en mode write\n",
        "f = open(\"myFile.txt\" , 'w')\n",
        " \n",
        "# ajouter le contenu au fichier\n",
        "for line in listContent:\n",
        "    f.write(line + \"\\n\")\n",
        " \n",
        "f.close()"
      ]
    },
    {
      "cell_type": "markdown",
      "metadata": {
        "id": "DhD8kfuVUZYd"
      },
      "source": [
        "# Exercice 10\n",
        "a) Ecrire un proramme qui permet de lister tous les dossiers du répertoire 'C:/Windows'\n",
        "b) écrire un autre programme qui liste tous les fichiers du répertoire 'C:/Windows'.\n",
        "c) En utilisant la méthode getlogin(), écrire un programme qui réalise les mêmes opérations pour le répertoire Desktop de l'utilisateur"
      ]
    },
    {
      "cell_type": "code",
      "execution_count": null,
      "metadata": {
        "id": "wG6PAZQbUoZO"
      },
      "outputs": [],
      "source": [
        "#Question 1\n",
        "#coding:utf-8\n",
        " \n",
        "import os\n",
        " \n",
        "from pathlib import Path\n",
        "folders = []\n",
        "dir = 'C:/Windows'\n",
        "p = Path(dir)\n",
        "for entry in os.scandir(p):\n",
        "    if entry.is_dir():\n",
        "        folders.append(entry)\n",
        "for rep in folders:\n",
        "    print(rep)"
      ]
    },
    {
      "cell_type": "code",
      "execution_count": null,
      "metadata": {
        "id": "rDKB-SXWWz7D"
      },
      "outputs": [],
      "source": [
        "#Question 2\n",
        "#coding:utf-8\n",
        " \n",
        "import os\n",
        " \n",
        "path = 'C:/Windows'\n",
        " \n",
        "files = os.listdir(path)\n",
        "for name in files:\n",
        "    print(name)"
      ]
    },
    {
      "cell_type": "code",
      "execution_count": null,
      "metadata": {
        "id": "_GiGsnXPW5aN"
      },
      "outputs": [],
      "source": [
        "#Question 3\n",
        "#coding:utf-8\n",
        " \n",
        "import os\n",
        " \n",
        "# récupération du nom d'utlisateur\n",
        "\n",
        " \n",
        "# récupérer le chemin du dossier Bureau\n",
        "desktop = \"../desktop/\"\n",
        " \n",
        "# lister et afficher les fichier du répertoire bureau \n",
        "files = os.listdir(desktop)\n",
        "for name in files:\n",
        "    print(name)"
      ]
    },
    {
      "cell_type": "markdown",
      "metadata": {
        "id": "TD40jb0LU8ed"
      },
      "source": [
        "# Exercice 11\n",
        "Écrire un programme en Python qui permet de créer un fichier nommé myFile.txt et d'ajouter le texte suivant: T = \"learning to program in python is easier than learning to program in java\"\n",
        "Ecrire un programme en python qui permet de compter la fréquence de répétition de chaque mot qui se trouve sur le fichier myFile.txt"
      ]
    },
    {
      "cell_type": "code",
      "execution_count": null,
      "metadata": {
        "id": "iqpmJnwPVABk"
      },
      "outputs": [],
      "source": [
        "#Question1\n",
        "# coding: utf-8\n",
        " \n",
        "T = \"learning to program in python is easier than learning to program in java\"\n",
        " \n",
        "# création du fichier myFile.txt\n",
        "f = open(\"myFile.txt\" , 'w')\n",
        " \n",
        "# écrire sur le fichier\n",
        "f.write(T )\n",
        "f.close()"
      ]
    },
    {
      "cell_type": "code",
      "execution_count": null,
      "metadata": {
        "id": "8CGthTbgWKYR"
      },
      "outputs": [],
      "source": [
        "#Question 2\n",
        "# coding: utf-8\n",
        " \n",
        "# ouvrir le fichier myFile.txt en mode lecture\n",
        "f = open(\"myFile.txt\" , 'r')\n",
        " \n",
        "# récupération du contenu du fichier myFile.txt\n",
        "content = f.read()\n",
        " \n",
        "# convertir le contenu en une liste\n",
        "L = content.split()\n",
        " \n",
        "f.close()\n",
        "# initialiser la liste des mots sans répétition\n",
        "unique = []\n",
        "# parcourir les mots du fichier myFile.txt\n",
        "for mot in L:\n",
        "    if mot not in unique:\n",
        "        unique.append(mot)\n",
        "        print(\"La fréquence du mot \" , mot , \" est :\", L.count(mot))"
      ]
    },
    {
      "cell_type": "markdown",
      "metadata": {
        "id": "V7RDOgvdWf06"
      },
      "source": [
        "Ce qui affiche après exécution:\n",
        "La fréquence du mot learning est : 2\n",
        "La fréquence du mot to est : 2\n",
        "La fréquence du mot program est : 2\n",
        "La fréquence du mot in est : 2\n",
        "La fréquence du mot python est : 1\n",
        "La fréquence du mot is est : 1\n",
        "La fréquence du mot easier est : 1\n",
        "La fréquence du mot than est : 1\n",
        "La fréquence du mot java est : 1"
      ]
    },
    {
      "cell_type": "markdown",
      "metadata": {
        "id": "GP2J7zJCVUXm"
      },
      "source": [
        "# Exercice 12\n",
        "1) - Ecrire un algorithme en python permettant de créer un fichier texte nommé myfile.txt et qui contient le texte suivant avec des des espaces multiples:\n",
        "T = \"Python      est     un       langage          de            programmation   de   haut                       niveau \".\n",
        "2) - Ecrire un autre programme en Python permettant de supprimer les espaces multiples du fichier myfile.txt et l'enregistrer dans un autre fichier myfile2.txt."
      ]
    },
    {
      "cell_type": "code",
      "execution_count": null,
      "metadata": {
        "id": "NCNalWQvVYZE"
      },
      "outputs": [],
      "source": [
        "#question1\n",
        "# créer un fichier en mode write\n",
        "file = open(\"myfile.txt\" , 'w')\n",
        " \n",
        "T = T = \"Python      est     un langage       de       programmation      de         haut      niveau    \"\n",
        "# ajouter le texte T au fichier\n",
        "file.write(T)\n",
        " \n",
        "# fermer le fichier\n",
        "file.close()"
      ]
    },
    {
      "cell_type": "code",
      "execution_count": null,
      "metadata": {
        "id": "1cLDEh8jV6mZ"
      },
      "outputs": [],
      "source": [
        "#question2\n",
        "# ouvrir le fichier en mode read\n",
        "file = open(\"myfile.txt\" , 'r')\n",
        " \n",
        "# récuperation du contenu du fichier\n",
        "content = file.read()\n",
        "file.close()\n",
        " \n",
        "# transformer le contenu en une liste\n",
        "list_words = content.split()\n",
        " \n",
        "# recréation du contenu\n",
        "content2=\"\"\n",
        " \n",
        "for word in list_words:\n",
        "    content2 = content2 + word + \" \"\n",
        " \n",
        "# ouvrir le fichier en mode write\n",
        "file = open(\"myfile2.txt\" , 'w')"
      ]
    }
  ],
  "metadata": {
    "colab": {
      "collapsed_sections": [
        "DE54jHXYSSAC",
        "yJtAbr-SS7QB",
        "gryq2b5xTUzd",
        "sqqtR95fTq53",
        "R4mzeFT2T5MP",
        "PuPxvEb9UKyq",
        "DhD8kfuVUZYd"
      ],
      "provenance": []
    },
    "kernelspec": {
      "display_name": "Python 3",
      "language": "python",
      "name": "python3"
    },
    "language_info": {
      "name": "python",
      "version": "3.11.0 (main, Oct 24 2022, 18:26:48) [MSC v.1933 64 bit (AMD64)]"
    },
    "vscode": {
      "interpreter": {
        "hash": "9fedf123aa532497912d939029aac71791b23fba076af1a3c1eebd0e739bf47a"
      }
    }
  },
  "nbformat": 4,
  "nbformat_minor": 0
}
