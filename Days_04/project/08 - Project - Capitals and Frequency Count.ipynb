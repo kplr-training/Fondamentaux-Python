{
 "cells": [
  {
   "cell_type": "markdown",
   "metadata": {},
   "source": [
    "# Project - Capitals and Frequency Count\n",
    "### Goal\n",
    "- Guess a Captial Game\n",
    "- Frequency Count"
   ]
  },
  {
   "cell_type": "markdown",
   "metadata": {},
   "source": [
    "### Description of Guess a Capital Game\n",
    "- Use a dictionary to keep country-capital pairs as key-value.\n",
    "    - {'France': 'Paris', 'Finland': 'Helsinki', 'Sweden': 'Stockholm', 'Denmark': 'Copenhagen'}\n",
    "- Prompt the user 3 times for a capital in a country.\n",
    "- Print the number of correct capitals.\n",
    "- Feel free to print whether answer is correct, and what it is."
   ]
  },
  {
   "cell_type": "code",
   "execution_count": null,
   "id": "1ad0e627",
   "metadata": {},
   "outputs": [],
   "source": []
  },
  {
   "cell_type": "code",
   "execution_count": null,
   "id": "25759a95",
   "metadata": {},
   "outputs": [],
   "source": []
  },
  {
   "cell_type": "markdown",
   "metadata": {},
   "source": [
    "### Description of Frequency Count\n",
    "- Prompt the user for a line of text\n",
    "- Use a dictionary to make frequency count of the letters.\n",
    "- Print the frequencies"
   ]
  },
  {
   "cell_type": "code",
   "execution_count": null,
   "id": "9ad7adc0",
   "metadata": {},
   "outputs": [],
   "source": []
  }
 ],
 "metadata": {
  "kernelspec": {
   "display_name": "Python 3",
   "language": "python",
   "name": "python3"
  },
  "language_info": {
   "codemirror_mode": {
    "name": "ipython",
    "version": 3
   },
   "file_extension": ".py",
   "mimetype": "text/x-python",
   "name": "python",
   "nbconvert_exporter": "python",
   "pygments_lexer": "ipython3",
   "version": "3.11.0 (main, Oct 24 2022, 18:26:48) [MSC v.1933 64 bit (AMD64)]"
  },
  "vscode": {
   "interpreter": {
    "hash": "9fedf123aa532497912d939029aac71791b23fba076af1a3c1eebd0e739bf47a"
   }
  }
 },
 "nbformat": 4,
 "nbformat_minor": 5
}
