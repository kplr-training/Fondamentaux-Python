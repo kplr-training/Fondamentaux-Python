{
  "nbformat": 4,
  "nbformat_minor": 0,
  "metadata": {
    "colab": {
      "provenance": []
    },
    "kernelspec": {
      "name": "python3",
      "display_name": "Python 3"
    },
    "language_info": {
      "name": "python"
    }
  },
  "cells": [
    {
      "cell_type": "markdown",
      "source": [
        "Exercice 1\n",
        "\n",
        "On considère les trois dictionnaires Pythons qui regroupe la totalité du matériels informatiques:\n",
        "\n",
        "```\n",
        "dicPC={\"HP\": 11 , \"Acer\": 7 , \"Lenovo\": 17 , \"Del\": 23}\n",
        "dicPhone={\"Sumsung\": 22 , \"Iphone\": 9 , \"Other\": 13 }\n",
        "dicTablette = {\"Sumsung\": 15 , \"Other\": 13}\n",
        "```\n",
        "\n",
        "Écrire un programme Python qui regroupe en concaténant ces trois dictionnaires en un seule avec deux méthodes différentes."
      ],
      "metadata": {
        "id": "RltY2_BnurvD"
      }
    },
    {
      "cell_type": "code",
      "execution_count": null,
      "metadata": {
        "id": "9jEJiRZeup65"
      },
      "outputs": [],
      "source": [
        "# 1ère méthode:\n",
        "# coding: utf-8\n",
        "dicPC={\"HP\": 11 , \"Acer\": 7 , \"Lenovo\": 17 , \"Del\": 23}\n",
        "dicPhone={\"Sumsung\": 22 , \"Iphone\": 9 , \"Other\": 13 }\n",
        "dicTablette = {\"Sumsung\": 15 , \"Other\": 13}\n",
        "\n",
        "# on crée un dictionnaire vide qui va contenir les autres dictionnaires\n",
        "dicTotal = {}\n",
        "\n",
        "# on ajoute les dictionnaire un par un via la méthode update\n",
        "dicTotal.update(dicPC)\n",
        "dicTotal.update(dicPhone)\n",
        "dicTotal.update(dicTablette)\n",
        "print(dicTotal)\n",
        "\n",
        "#Ce qui affiche après exécution:\n",
        "{'HP': 11, 'Acer': 7, 'Lenovo': 17, 'Del': 23, 'Sumsung': 15, 'Iphone': 9, 'Other': 13}\n",
        "\n",
        "# 2ème méthode\n",
        "# coding: utf-8\n",
        "dicPC={\"HP\": 11 , \"Acer\": 7 , \"Lenovo\": 17 , \"Del\": 23}\n",
        "dicPhone={\"Sumsung\": 22 , \"Iphone\": 9 , \"Other\": 13 }\n",
        "dicTablette = {\"Sumsung\": 15 , \"Other\": 13}\n",
        "# on crée un dictionnaire qui va contenir les autres \n",
        "dicTotal = {}\n",
        "# on ajoute les dictionnaires via la boucle for\n",
        "for d in [dicPC , dicTablette, dicPhone]:\n",
        "    dicTotal.update(d)\n",
        "\n",
        "print(dicTotal)\n",
        "\n"
      ]
    },
    {
      "cell_type": "markdown",
      "source": [
        "Exercice 2\n",
        "\n",
        "On considère le dictionnaire suivant dont les clés sont les noms des élèves et les valeurs des clés sont les moyennes générales obtenues en passant l’examen final:\n",
        "\n",
        "```\n",
        "etudiants = {\"etudiant_1\" : 13 , \"etudiant_2\" : 17 , \"etudiant_3\" : 9 , \"etudiant_4\" : 15 , \n",
        "\t\t\t \"etudiant_5\" : 8 , \"etudiant_6\" : 14 , \"etudiant_7\" : 16 , \"etudiant_8\" : 12 , \n",
        "\t\t\t \"etudiant_9\" : 13 , \"etudiant_10\" : 15 , \"etudiant_11\" : 14 , \"etudiant_112\" : 9 , \n",
        "\t\t\t \"etudiant_13\" : 10 , \"etudiant_14\" : 12 , \"etudiant_15\" : 13 , \"etudiant_16\" : 7 ,\n",
        "\t\t\t \"etudiant_17\" : 12 , \"etudiant_18\" : 15 , \"etudiant_19\" : 9 , \"etudiant_20\" : 17}\n",
        "```\n",
        "Ecrire un programme Python qui partitionne  ce dictionnaire en deux sous dictionnaires:\n",
        "\n",
        "\n",
        "1.   **etudiantAdmis**  dont les clés sont les étudiants admis et les valeurs des clés sont les moyennes obtenues (moyenne supérieurs ou égales à 10 ).\n",
        "2.   **etudiantNonAdmis** dont les clés sont les étudiants non admis et les valeurs des clés sont les moyennes obtenues (moyenne inférieur ou égale à 10)."
      ],
      "metadata": {
        "id": "2pkegOHIzkul"
      }
    },
    {
      "cell_type": "code",
      "source": [
        "# coding: utf-8\n",
        "etudiants = {\"etudiant_1\" : 13 , \"etudiant_2\" : 17 , \"etudiant_3\" : 9 , \"etudiant_4\" : 15 , \n",
        "             \"etudiant_5\" : 8 , \"etudiant_6\" : 14 , \"etudiant_7\" : 16 , \"etudiant_8\" : 12 , \n",
        "\t\t\t \"etudiant_9\" : 13 , \"etudiant_10\" : 15 , \"etudiant_11\" : 14 , \"etudiant_112\" : 9 , \n",
        "             \"etudiant_13\" : 10 , \"etudiant_14\" : 12 , \"etudiant_15\" : 13 , \"etudiant_16\" : 7 ,\n",
        "\t\t\t \"etudiant_17\" : 12 , \"etudiant_18\" : 15 , \"etudiant_19\" : 9 , \"etudiant_20\" : 17 ,}\n",
        "\n",
        "# on crée  deux dictionnaires vides un pour les admis et l'autre pour les non admis\n",
        "etudiantAdmis = dict({})\n",
        "etudiantNonAdmis = dict({})\n",
        "\n",
        "# on parcourt la liste des clés et des valeurs simultanément:\n",
        "# si la clé est < 10 l'étudiant sera ajouté au dictionnaire des étudiants non admis\n",
        "# si non l'étudiant sera ajouté au dictionnaire des étudiants admis\n",
        "for key , valeur in etudiants.items():\n",
        "    if(valeur < 10):\n",
        "        etudiantNonAdmis[key] = valeur\n",
        "    else:\n",
        "        etudiantAdmis[key] = valeur\n",
        "        \n",
        "print(\"Les etudiants admis : \" , etudiantAdmis)\n",
        "print(\"Les etudiants non admis : \" , etudiantNonAdmis)"
      ],
      "metadata": {
        "id": "2L_aiR7G0d8C"
      },
      "execution_count": null,
      "outputs": []
    },
    {
      "cell_type": "markdown",
      "source": [
        "Exercice 3\n",
        "\n",
        "Écrire un programme Python qui permet de créer à partir d’un entier  entier n saisi au clavier , un dictionnaire formé des entiers de 1 à n et de leurs carrées. Exemple pour n = 7 le dictionnaire sera de la forme:\n",
        "```\n",
        "{1: 1, 2: 4, 3: 9, 4: 16, 5: 25 , 6: 36 , 7: 49}\n",
        "```"
      ],
      "metadata": {
        "id": "bqaDwmFw0lu_"
      }
    },
    {
      "cell_type": "code",
      "source": [
        "# coding: utf-8\n",
        "# on demande à l'utilisateur de saisir un entier n\n",
        "n = int(input(\"Entrer la valeur de n\"))\n",
        "\n",
        "# on crée un dictionnaire vide qui va contenir les nombre n et leurs carrée\n",
        "d = dict({})\n",
        "\n",
        "# on fait le parcourt des entiers de 1 à n\n",
        "for i in range(1 , n+1):\n",
        "    d[i] = i*i\n",
        "\n",
        "print(d)\n",
        "\n",
        "# Ce qui affiche après exécution pour n = 10:\n",
        "\n",
        "{1: 1, 2: 4, 3: 9, 4: 16, 5: 25, 6: 36, 7: 49, 8: 64, 9: 81, 10: 100}"
      ],
      "metadata": {
        "id": "uw2Wh-Ss06hK"
      },
      "execution_count": null,
      "outputs": []
    },
    {
      "cell_type": "markdown",
      "source": [
        "Exercice 4\n",
        "\n",
        "Écrire un programme en Python qui demande à l'utilisateur de saisir une une chaine de caractère, et de lui renvoyer un dictionnaire dont les clés sont les caractères de la chaine saisie et les valeurs sont les nombres d’occurrences des caractères dans la chaine.\n",
        "Exemple pour la chaine s = \"langage\" , le programme renvoie le dictionnaire:\n",
        "```\n",
        "d = {'l':1 , 'a':2 , 'n':1 , 'g':2 , 'e':1}\n",
        "```"
      ],
      "metadata": {
        "id": "I3PZvinP1HGN"
      }
    },
    {
      "cell_type": "code",
      "source": [
        "#coding: utf-8\n",
        "s = \"langage\"\n",
        " \n",
        "# initialisation du dictionnaire recherché\n",
        "d = dict({})\n",
        " \n",
        "# parcourir les caractères de la chaine s\n",
        "for x in s:\n",
        "    d[x] = s.count(x)\n",
        "    \n",
        "print(d)"
      ],
      "metadata": {
        "id": "mFLDZDid1dYm"
      },
      "execution_count": null,
      "outputs": []
    },
    {
      "cell_type": "markdown",
      "source": [
        "Exercice 5\n",
        "\n",
        "Écrire un programme en Python qui demande à l'utilisateur de saisir une une chaine de caractère, et de lui renvoyer un dictionnaire dont les clés sont les caractères de la chaine saisie et les valeurs sont les positions des caractères dans la chaine. Exemple pour la chaine s = \"langage\" , le programme renvoie le dictionnaire:\n",
        "\n",
        "```\n",
        "d = {'l':0 , 'a':1 , 'n':2 , 'g':3 , 'e':6}\n",
        "```"
      ],
      "metadata": {
        "id": "vre__2yb1nN2"
      }
    },
    {
      "cell_type": "code",
      "source": [
        "#coding: utf-8\n",
        "s = \"langage\"\n",
        " \n",
        "# initialisation du dictionnaire recherché\n",
        "d = dict({})\n",
        " \n",
        "# parcourir les caractères de la chaine s\n",
        "for x in s:\n",
        "    d[x] = s.index(x)\n",
        "    \n",
        "print(d)"
      ],
      "metadata": {
        "id": "Rw_R0QcH2Rc8"
      },
      "execution_count": null,
      "outputs": []
    },
    {
      "cell_type": "markdown",
      "source": [
        "Exercice 6\n",
        "\n",
        "Écrire une fonction en Python qui prends en paramètre une liste de  nombres entiers et qui renvoie un dictionnaire dont les clés sont les entiers de la liste et dont les valeurs sont 'pair' ou 'impair' selon la parité du nombre."
      ],
      "metadata": {
        "id": "JVl1y2gU2UBE"
      }
    },
    {
      "cell_type": "code",
      "source": [
        "# coding: utf-8\n",
        "def listToDict(l):\n",
        "    \n",
        "    # création d'un dictionnaire vide pour récupérer les résultats\n",
        "    dictParity = dict()\n",
        "    \n",
        "    # parcourir les éléments de la liste et tester leur parité\n",
        "    for x in l:\n",
        "        if x%2 == 0:\n",
        "            dictParity[x] = 'Pair'\n",
        "        else:\n",
        "            dictParity[x] = 'Impair'\n",
        "    return dictParity\n",
        "# Faire un test :\n",
        "l = [24 , 14 , 3 , 36 , 41 , 22 , 15]\n",
        "print(listToDict(l))\n",
        "# La sortie est: {24: 'Pair', 14: 'Pair', 3: 'Impair', 36: 'Pair', 41: 'Impair', 22: 'Pair', 15: 'Impair'}"
      ],
      "metadata": {
        "id": "VEJGr7to3ULA"
      },
      "execution_count": null,
      "outputs": []
    },
    {
      "cell_type": "markdown",
      "source": [
        "Exercice 7\n",
        "\n",
        "Écrire un programme en Python qui demande à l'utilisateur de saisir dix nombres entiers de son choix et de lui renvoyer un dictionnaire dont les clés sont les entiers saisis et dont les valeurs sont 'premier' ou 'non premier' selon l'entier saisi."
      ],
      "metadata": {
        "id": "XCR3LzE73Vco"
      }
    },
    {
      "cell_type": "code",
      "source": [
        "# coding: utf-8\n",
        "# création d'une fonction qui teste la primalité d'un nombre entier donné\n",
        "def testPrim(n):\n",
        "    # initialisation du nombre de diviseurs de n\n",
        "    numberDivisors = 0\n",
        "    # parcourir les entiers 1 2 3 ... n et sélectionner les diviseurs de n\n",
        "    for i in range(1 , n + 1):\n",
        "        if ( n%i == 0 ):\n",
        "            numberDivisors = numberDivisors + 1\n",
        "    if (numberDivisors == 2 ):\n",
        "        return True\n",
        "    else:\n",
        "        return False\n",
        "    \n",
        "# création d'un dictionnaire qui va contenir les valeurs saisies au clavier\n",
        "d = dict({})\n",
        "for i in range(0 , 10):\n",
        "    n = int(input(\"Type an integer : \" ))\n",
        "    if (testPrim(n)):\n",
        "        d[n] = \"prime\"\n",
        "    else:\n",
        "        d[n] = \"not prime\"\n",
        "print(d)\n",
        "\n",
        "# Teste de l'algorithme\n",
        "# pour les valeurs saisies : 3,  5, 4, 11, 18, 13, 9, 22, 45, 16 la sortie est  :\n",
        "# {3: 'prime', 5: 'prime', 4: 'not prime', 11: 'prime', 18: 'not prime', 13: 'prime', 9: 'not prime', 22: 'not prime', 45: 'not prime', 16: 'not prime'}"
      ],
      "metadata": {
        "id": "HX7MYhNn3eoo"
      },
      "execution_count": null,
      "outputs": []
    },
    {
      "cell_type": "markdown",
      "source": [
        "Exercice 8\n",
        "\n",
        "Écrire un programme en Python qui demande à l'utilisateur de saisir cinq nombres entiers de son choix et de lui renvoyer un dictionnaire dont les clés sont les entiers saisis et dont les valeurs sont les listes des diviseurs des nombres saisis.\n",
        "Exemple si l'utilisateur saisi les nombres : 14 , 7 , 8 , 6 , 13 le programme renvoie le dictionnaire:\n",
        "```\n",
        "d = {14 : [1, 2, 7, 14] , 7: [1,7] , 8: [1, 2, 4, 8] , 6: [1,3,6] , 13: [1,13] }\n",
        " \n",
        "```"
      ],
      "metadata": {
        "id": "nDNerh3T3f6S"
      }
    },
    {
      "cell_type": "code",
      "source": [
        "# coding: utf-8\n",
        "# fonction qui détermine la liste des diviseurs d'un entier\n",
        "def listDiv(n):\n",
        "    # initialisation de la liste des diviseur de n\n",
        "    l = []\n",
        "    # parcourt des entiers 1 , 2 , 3 ,..., n\n",
        "    for i in range(1, n+1):\n",
        "        # si i est un diviseur de n on l'ajoute à la liste\n",
        "        if n%i == 0:\n",
        "            l.append(i)\n",
        "    return l\n",
        " \n",
        "# récupération des nombres tapés dans une liste python\n",
        "typed_number = []\n",
        "for i in range(0, 5):\n",
        "    n = int(input(\"Tapez un nombre entier\"))\n",
        "    typed_number.append(n)\n",
        "    \n",
        "# création du dictionnaire\n",
        "d = dict({})\n",
        "for n in typed_number:\n",
        "    d[n] = listDiv(n)\n",
        "    \n",
        "print(d)"
      ],
      "metadata": {
        "id": "L34g9_4w3wqA"
      },
      "execution_count": null,
      "outputs": []
    },
    {
      "cell_type": "markdown",
      "source": [
        "Exercice 9\n",
        "\n",
        "Écrire un programme en Python qui demande à l’utilisateur de saisir un entier n et de lui renvoyer un dictionnaire dont les clés sont les entiers 1 , 2 , 3 , …n et dont les valeurs sont 1! , 2! , 3! , … , n!"
      ],
      "metadata": {
        "id": "tMht782z31qZ"
      }
    },
    {
      "cell_type": "code",
      "source": [
        "# coding: utf-8\n",
        "# demander à l'utilisateur de saisir un entier n\n",
        "n = int(input(\"Tapez la valeur de n : \"))\n",
        "# création d'une fonction qui calcul n!\n",
        "def facto(n):\n",
        "    fact = 1\n",
        "    for i in range(1 , n+1):\n",
        "        fact = fact*i\n",
        "    return fact\n",
        " \n",
        "# création du dictionnaire demandé\n",
        "d = dict({})\n",
        "for i in range(1 , n+1):\n",
        "    d[i] = facto(i)\n",
        "    \n",
        "print(\"Le dictionnaire demandé est\\n\" , d)"
      ],
      "metadata": {
        "id": "imfHyA6P4TU-"
      },
      "execution_count": null,
      "outputs": []
    },
    {
      "cell_type": "markdown",
      "source": [
        "Exercice 10\n",
        "\n",
        "Écrire un programme en Python qui demande à l’utilisateur de saisir un entier n et de lui renvoyer un dictionnaire dont les clés sont les entiers 1 , 2 , 3 , …n et dont les valeurs sont les sommes 1 , 1+ 2 , 1+2+3 , … , 1+2+3+…+n"
      ],
      "metadata": {
        "id": "8WOJwTJf4Xwt"
      }
    },
    {
      "cell_type": "code",
      "source": [
        "# coding: utf-8\n",
        "# demander à l'utilisateur de saisir un entier n\n",
        "n = int(input(\"Tapez la valeur de n : \"))\n",
        "# création d'une fonction qui calcul la somme 1+2+...+n\n",
        "def somme(n):\n",
        "    s = 0\n",
        "    for i in range(1 , n+1):\n",
        "        s = s + i\n",
        "    return s\n",
        " \n",
        "# création du dictionnaire demandé\n",
        "d = dict({})\n",
        "for i in range(1 , n+1):\n",
        "    d[i] = somme(i)\n",
        "    \n",
        "print(\"Le dictionnaire demandé est \" , d)\n",
        "# quand l'utilisateur fait entrer 5, le programme affiche:\n",
        "# Le dictionnaire demandé est {1: 1, 2: 3, 3: 6, 4: 10, 5: 15}"
      ],
      "metadata": {
        "id": "xOEXI5fL4ezN"
      },
      "execution_count": null,
      "outputs": []
    },
    {
      "cell_type": "markdown",
      "source": [
        "Exercice 11\n",
        "\n",
        "Écrire un programme en Python qui demande à l’utilisateur de saisir un texte et de lui renvoyer un dictionnaire dont les clés sont les mots du texte saisi et les valeurs sont les longueurs des mots qui composent le texte. Exemple pour le texte T = « Python est un langage de programmation » , le programme doit renvoyer le dictionnaire:\n",
        "\n",
        "```\n",
        "{'Python': 6, 'est': 3, 'un': 2, 'langage': 7, 'de': 2, 'programmation': 13}\n",
        " \n",
        "```"
      ],
      "metadata": {
        "id": "TNIynVOz4jVd"
      }
    },
    {
      "cell_type": "code",
      "source": [
        "# coding: utf-8\n",
        "# demander à l'utilisateur de saisir un texte\n",
        "T = input(\"Saisir un texte : \")\n",
        " \n",
        "# Convertir le texte en une liste\n",
        "liste_words = T.split()\n",
        " \n",
        "# création du dictionnaire demandé\n",
        "d = dict({})\n",
        "for word in liste_words:\n",
        "    d[word] = len(word)\n",
        "    \n",
        "print(\"Le dictionnaire demandé est \" , d)\n",
        "# ce qui affiche pour le texte cité ci-dessus: \n",
        "# Le dictionnaire demandé est  {'Python': 6, 'est': 3, 'un': 2, 'langage': 7, 'de': 2, 'programmation': 13}"
      ],
      "metadata": {
        "id": "QnmQ0RM942LO"
      },
      "execution_count": null,
      "outputs": []
    },
    {
      "cell_type": "markdown",
      "source": [
        "Exercice 12\n",
        "\n",
        "Écrire un programme en Python qui demande à l’utilisateur de saisir un texte et de lui renvoyer un dictionnaire dont les clés sont les mots du texte saisi et les valeurs sont les inverses des mots qui composent le texte. Exemple pour le texte T = « Python est un facile » , le programme doit renvoyer le dictionnaire:\n",
        "\n",
        "\n",
        "```\n",
        "d = {'Python': 'nohtyp' , 'est': 'tse' , 'facile': 'elicaf'}\n",
        "```"
      ],
      "metadata": {
        "id": "k6tlJ_2043H9"
      }
    },
    {
      "cell_type": "code",
      "source": [
        "# coding: utf-8\n",
        "# demander à l'utilisateur de saisir un texte\n",
        "T = input(\"Saisir un texte : \")\n",
        " \n",
        "# Convertir le texte en une liste\n",
        "liste_words = T.split()\n",
        " \n",
        "# création du dictionnaire demandé\n",
        "d = dict({})\n",
        "for word in liste_words:\n",
        "    d[word] = word[::-1]\n",
        "    \n",
        "print(\"Le dictionnaire demandé est \" , d)\n",
        "# ce qui affiche pour le texte cité ci-dessus: \n",
        "# Le dictionnaire demandé est  {'Python': 'nohtyP', 'est': 'tse', 'un': 'nu', 'facile': 'elicaf'}"
      ],
      "metadata": {
        "id": "XG2V-Sgq5KAV"
      },
      "execution_count": null,
      "outputs": []
    },
    {
      "cell_type": "markdown",
      "source": [
        "Exercice 13\n",
        "\n",
        "Étant donnée un dictionnaire d dont les valeurs des clés sont des listes. Écrire un programme Python qui permet de transformer le dictionnaire d en triant les listes. Exemple pour le dictionnaire:\n",
        "\n",
        "```\n",
        "d = {'a1': [21, 17, 22, 3], 'a2': [11, 15, 8, 13], \n",
        "\t 'a3': [7, 13, 2, 11] , 'a4':[22,14,7,9]}\n",
        "```\n",
        "Le programme doit renvoyer le dictionnaire:\n",
        "\n",
        "```\n",
        "d = {'a1': [3, 17, 21, 22], 'a2': [8, 11, 13, 15], \n",
        "\t 'a3': [2, 7, 11, 13], 'a4': [7, 9, 14, 22]}\n",
        "```"
      ],
      "metadata": {
        "id": "PC-fwNEY5Ssv"
      }
    },
    {
      "cell_type": "code",
      "source": [
        "d = {'a1': [21, 17, 22, 3], 'a2': [11, 15, 8, 13], \n",
        "     'a3': [7, 13, 2, 11] , 'a4':[22,14,7,9]}\n",
        "d_sorted = dict({})\n",
        "for key , value in d.items():\n",
        "    value.sort()\n",
        "    d_sorted[key] = value\n",
        "    \n",
        "print(d_sorted)\n",
        "#affiche: {'a1': [3, 17, 21, 22], 'a2': [8, 11, 13, 15], 'a3': [2, 7, 11, 13], 'a4': [7, 9, 14, 22]}"
      ],
      "metadata": {
        "id": "9JH700QB6Gc-"
      },
      "execution_count": null,
      "outputs": []
    },
    {
      "cell_type": "markdown",
      "source": [
        "Exercice 14\n",
        "\n",
        "Etant donnée un dictionnaire python dont les clés sont les noms des élèves et les valeurs sont les listes des notes\n",
        "\n",
        "```\n",
        "d = {\"Aladin\": [12, 15 , 17] , \"Nathalie\" : [15, 13 , 16] , \"Robert\": [13, 15 , 11] } \n",
        "```\n",
        "Ecrire un programme qui remplace les listes des notes par leurs moyennes."
      ],
      "metadata": {
        "id": "Q170v8dK6Yoa"
      }
    },
    {
      "cell_type": "code",
      "source": [
        "# coding: utf-8\n",
        "d = {\"Aladin\": [12, 15 , 17] , \"Nathalie\" : [15, 13 , 16] , \"Robert\": [13, 15 , 11] }\n",
        " \n",
        "# initialisation du dictionnaire recherché\n",
        "d_moyennes = dict({})\n",
        " \n",
        "for key , value in d.items():\n",
        "    # calcul de la moyenne\n",
        "    m = 0\n",
        "    for x in value:\n",
        "        m = m + x\n",
        "    m = m/len(value)\n",
        "    \n",
        "    # ajouter la moyenne arrondie au dictionnaire\n",
        "    d_moyennes[key] = round(m , 2)\n",
        "    \n",
        "print(d_moyennes)\n",
        "# affiche {'Aladin': 14.67, 'Nathalie': 14.67, 'Robert': 13.0}"
      ],
      "metadata": {
        "id": "aJidbUCI6tyS"
      },
      "execution_count": null,
      "outputs": []
    },
    {
      "cell_type": "markdown",
      "source": [
        "Exercice 15\n",
        "\n",
        "Etant donnée un dictionnaire python dont les clés sont les noms des élèves et les valeurs sont les ages associés:\n",
        "\n",
        "```\n",
        "d = {\"Robert\": 17 , \"Catherine\" : 21 , \"Majid\": 23 , \"Farid\" : 15 }\n",
        "```\n",
        "Ecrire un programme en python qui remplace les ages par 'mineur' si l'age < 18 et 'majeur' si non."
      ],
      "metadata": {
        "id": "nx8x23Ts64Ta"
      }
    },
    {
      "cell_type": "code",
      "source": [
        "# coding: utf-8\n",
        "d = {\"Robert\": 17 , \"Catherine\" : 21 , \"Majid\": 23 , \"Farid\" : 15 }\n",
        " \n",
        "# prcourir les listes des clés et des valeurs\n",
        "for key , value in d.items():\n",
        "    \n",
        "    # tester si l'age est < 18 ans \n",
        "    if d[key] < 18:\n",
        "        d[key] = 'mineur'\n",
        "    else:\n",
        "        d[key] = 'majeur'\n",
        "        \n",
        "# afficher le dictionnaire        \n",
        "print(d)\n",
        "# affiche: {'Robert': 'mineur', 'Catherine': 'majeur', 'Majid': 'majeur', 'Farid': 'mineur'}"
      ],
      "metadata": {
        "id": "vu-ekijf7PDz"
      },
      "execution_count": null,
      "outputs": []
    },
    {
      "cell_type": "markdown",
      "source": [
        "Exercice 16\n",
        "\n",
        "On considère le dictionnaire python suivant qui contient les données des étudiants: identifiant, name , section, age...\n",
        "\n",
        "\n",
        "```\n",
        "students = {'id1':  {'name': 'Catherine' , 'section': 'SVT', 'age': 17},\n",
        "                'id2':  {'name': 'Majid' , 'section': 'Math', 'age': 18},\n",
        "                'id3':  {'name': 'Catherine' , 'section': 'SVT', 'age': 17},\n",
        "                'id4':  {'name': 'Robert' , 'section': 'Physique', 'age': 19}\n",
        "                }\n",
        "```\n",
        "Ecrire un programme en python qui permet de supprimer les données dupliqués."
      ],
      "metadata": {
        "id": "lHYy9iX27QhJ"
      }
    },
    {
      "cell_type": "code",
      "source": [
        "# coding: utf-8\n",
        "students = {'id1':  {'name': 'Catherine' , 'section': 'SVT', 'age': 17},\n",
        "                'id2':  {'name': 'Majid' , 'section': 'Math', 'age': 18},\n",
        "                'id3':  {'name': 'Catherine' , 'section': 'SVT', 'age': 17},\n",
        "                'id4':  {'name': 'Robert' , 'section': 'Physique', 'age': 19}\n",
        "                }\n",
        " \n",
        "# initialiser le dictionnaire recherché\n",
        "remove_duplicate = dict({})\n",
        " \n",
        "# prcourir les listes des clés et des valeurs du dictionnaire students\n",
        "for key , data in students.items():\n",
        "    \n",
        "    # tester si la valeur data se trouve dans le dictionnaire remove_duplicate\n",
        "    if data not in remove_duplicate.values():\n",
        "        remove_duplicate[key] = data\n",
        "        \n",
        "# afficher le dictionnaire        \n",
        "print(remove_duplicate)\n",
        "# affiche: \n",
        "\"\"\" \n",
        "{'id1': {'name': 'Catherine', 'section': 'SVT', 'age': 17}, \n",
        "'id2': {'name': 'Majid', 'section': 'Math', 'age': 18}, \n",
        "'id4': {'name': 'Robert', 'section': 'Physique', 'age': 19}}\n",
        "\"\"\""
      ],
      "metadata": {
        "id": "8HDqqkrM7nl4"
      },
      "execution_count": null,
      "outputs": []
    },
    {
      "cell_type": "markdown",
      "source": [
        "Exercice 17\n",
        "\n",
        "Etant donnée un dictionnaire en python dont les pairs (clé: valeur) sont les noms des élèves avec leurs âges:\n",
        "\n",
        "```\n",
        "d = {\"Robert\": 17 , \"Catherine\" : 21 , \"Majid\": 23 , \"Farid\" : 15 }\n",
        "```\n",
        "Ecrire un programme en python qui transforme le dictionnaire d en la liste:\n",
        "\n",
        "```\n",
        "[('Robert', 17), ('Catherine', 21), ('Majid', 23), ('Farid', 15)]\n",
        "```"
      ],
      "metadata": {
        "id": "alzEHLSx7sYn"
      }
    },
    {
      "cell_type": "code",
      "source": [
        "d = {\"Robert\": 17 , \"Catherine\" : 21 , \"Majid\": 23 , \"Farid\" : 15 }\n",
        " \n",
        "# initialisation de la liste demandée\n",
        "L = []\n",
        " \n",
        "# parcourir les éléments du dictionnaire\n",
        "for key , value in d.items():\n",
        "    L.append((key , value))\n",
        "# affichage de la liste    \n",
        "print (L)\n",
        "# output: [('Robert', 17), ('Catherine', 21), ('Majid', 23), ('Farid', 15)]"
      ],
      "metadata": {
        "id": "k3ulpFIP8GYP"
      },
      "execution_count": null,
      "outputs": []
    },
    {
      "cell_type": "markdown",
      "source": [
        "Exercice 18\n",
        "\n",
        "Ecrire un programme en Python qui transforme le texte: T = \"les versions Python 3.9 et Python 3.10 sont beaucoup plus utilisées que les versions Python 2.x\" en un dictionnnaire dont les clés sont les mots du texte T et le valeurs associés sont les occurrences des mots dans le texte"
      ],
      "metadata": {
        "id": "9XIIsTYs8cnR"
      }
    },
    {
      "cell_type": "code",
      "source": [
        "T = \"les versions Python 3.9 et Python 3.10 sont beaucoup plus utilisées que les versions Python 2.x\"\n",
        " \n",
        "# initialisation du dictionnaire demandé\n",
        "d = dict({})\n",
        " \n",
        "# convertir s en une liste\n",
        "L = T.split()\n",
        " \n",
        "for word in L:\n",
        "    d[word] = L.count(word)\n",
        "    \n",
        "# affichage du dictionnaire\n",
        "print(d)\n",
        "\"\"\"\n",
        "output: {'les': 2, 'versions': 2, 'Python': 3, '3.9': 1, \n",
        " 'et': 1, '3.10': 1, 'sont': 1, 'beaucoup': 1, \n",
        " 'plus': 1, 'utilisées': 1, 'que': 1, '2.x': 1}\n",
        " \"\"\""
      ],
      "metadata": {
        "id": "Ne0UvbrH8ivf"
      },
      "execution_count": null,
      "outputs": []
    },
    {
      "cell_type": "markdown",
      "source": [
        "Exercice 19\n",
        "\n",
        "On considère les deux dictionnaires suivants dont les clés sont les noms des modules de formations proposées et dont les valeurs des clés sont les prix associés en Euro. Formation1 = {\"Python\" : 350 , \"Django\" : 400 , \"PHP\" : 320 , \"Java\" : 450}, Formation2 = {\"Python\" : 570 , \"Django\" : 350 , \"PHP\" : 300 , \"Java\" : 570}. Créer un programme en Python qui prends en entré les deux dictionnaires et renvoie un autre dictionnaire nommé Formation formé des mêmes clés et dont les valeurs associées sont les minimum des valeurs des prix de Formation1 et Formation2."
      ],
      "metadata": {
        "id": "e2TlHXjG8k-R"
      }
    },
    {
      "cell_type": "code",
      "source": [
        "Formation1 = {\"Python\" : 350 , \"Django\" : 400 , \"PHP\" : 320 , \"Java\" : 450}\n",
        "Formation2 = {\"Python\" : 570 , \"Django\" : 350 , \"PHP\" : 300 , \"Java\" : 570}\n",
        " \n",
        "# initialisation du dictionnaire demandé\n",
        "Formation = dict({})\n",
        " \n",
        "# parcourir les valeur du dictionnaire Formation1\n",
        "for key , value in Formation1.items():\n",
        "    if Formation1[key] >= Formation2[key]:\n",
        "        Formation[key] = Formation2[key]\n",
        "    else:\n",
        "        Formation[key] = Formation1[key]\n",
        "        \n",
        "# affichage du dictionnaire\n",
        "print(Formation) \n",
        "#output: {'Python': 350, 'Django': 350, 'PHP': 300, 'Java': 450}"
      ],
      "metadata": {
        "id": "XVRcqU_78zLB"
      },
      "execution_count": null,
      "outputs": []
    },
    {
      "cell_type": "markdown",
      "source": [
        "Exercice 20\n",
        "\n",
        "Ecrire un programme en Python qui prends en entrée un texte T = \"Python est un langage de programmation de haut niveau\", et crée un dictionnaire nommé position_a dont les clés sont les mots du texte T et dont les valeurs des clés sont les positions de la lettre 'a' dans les mots. Si la lettre 'a' , ne figure pas dans le mot, la position sera -1."
      ],
      "metadata": {
        "id": "WNpSdITL95Nn"
      }
    },
    {
      "cell_type": "code",
      "source": [
        "T = \"Python est un langage de programmation de haut niveau\"\n",
        " \n",
        "# initialisation du dictionnaire demandé\n",
        "position_a = dict({})\n",
        " \n",
        "# parcourir les mots du texte T\n",
        "for word in T.split():\n",
        "    if 'a'in word:\n",
        "        position_a[word] = word.index('a')\n",
        "    else:\n",
        "        position_a[word] = -1\n",
        " \n",
        "# afficher le dictionnaire\n",
        "print(\"position_a = \" , position_a)\n",
        " \n",
        "\"\"\"\n",
        "output:\n",
        "position_a =  {'Python': -1, 'est': -1, \n",
        "               'un': -1,'langage': 1, \n",
        "               'de': -1, 'programmation': 5,\n",
        "                'haut': 1, 'niveau': 4}\n",
        "\"\"\""
      ],
      "metadata": {
        "id": "J8FZSMRB-ECP"
      },
      "execution_count": null,
      "outputs": []
    },
    {
      "cell_type": "markdown",
      "source": [
        "Exercice 21\n",
        "\n",
        "Etant donné le dictionnaire Python suivant qui contient les noms des élèves avec leurs notes à l'examen:\n",
        "\n",
        "\n",
        "```\n",
        "newResults =  {'Maria': 19, 'Amelia': 16, 'Bernard': 18, 'Hafid': 18, \n",
        "               'Hajar': 19, 'Jules': 15, 'Nathan': 20, 'Enzo': 17}\n",
        "```\n",
        "Ecrire un programme en Python qui permet d'améliorer les notes en faisant une translation qui consiste à ajouter 2 points à chaque élève.\n"
      ],
      "metadata": {
        "id": "VKFvszYq-Kje"
      }
    },
    {
      "cell_type": "code",
      "source": [
        "StudentsResults = {\"Maria\":17 , \"Amelia\":14, \"Bernard\":16 , \"Hafid\": 16,\n",
        "                   \"Hajar\":17 ,  \"Jules\":13 , \"Nathan\":18 , \"Enzo\":15}\n",
        " \n",
        "# initialisation du dictionnaire demandé\n",
        "newResults = dict({})\n",
        " \n",
        "# parcourir les éléments du dictionnaire\n",
        "for key, value in StudentsResults.items():\n",
        "    newResults[key] = value + 2\n",
        "    \n",
        "# afficher le dictionnaire\n",
        "print(\"newResults = \" , newResults)\n",
        "\"\"\"\n",
        "output:\n",
        "newResults =  {'Maria': 19, 'Amelia': 16, 'Bernard': 18, 'Hafid': 18, \n",
        "               'Hajar': 19, 'Jules': 15, 'Nathan': 20, 'Enzo': 17}\n",
        "\"\"\""
      ],
      "metadata": {
        "id": "W6q3jfU7-bAl"
      },
      "execution_count": null,
      "outputs": []
    },
    {
      "cell_type": "markdown",
      "source": [
        "Exercice 22\n",
        "\n",
        "Le dictionnaire python suivants contient les noms des élèves avec leurs moyennes à l'examen:\n",
        "\n",
        "```\n",
        "Students = {\"Maria\":17 , \"Amelia\":14, \"Bernard\":16 , \"Hafid\": 16,\n",
        "                   \"Hajar\":17 ,  \"Jules\":13 , \"Nathan\":18 , \"Enzo\":15}\n",
        "```\n",
        "On vous demande de créer un programme qui pemet d'extraire la liste des noms des élèves et la liste de leurs notes."
      ],
      "metadata": {
        "id": "u53UdDbf-70V"
      }
    },
    {
      "cell_type": "code",
      "source": [
        "Students = {\"Maria\":17 , \"Amelia\":14, \"Bernard\":16 , \"Hafid\": 16,\n",
        "                   \"Hajar\":17 ,  \"Jules\":13 , \"Nathan\":18 , \"Enzo\":15}\n",
        " \n",
        "# initialisation des listes demandées\n",
        "listNames = []\n",
        "listNotes = []\n",
        " \n",
        "for key, value in Students.items():\n",
        "    listNames.append(key)\n",
        "    listNotes.append(value)\n",
        "    \n",
        "# afficher les listes des noms et des notes\n",
        "print(\"Liste des noms : \" , listNames)\n",
        "print(\"Liste des notes : \" , listNotes)\n",
        "\"\"\"\n",
        "output:\n",
        "Liste des noms :  ['Maria', 'Amelia', 'Bernard', 'Hafid', 'Hajar', 'Jules', 'Nathan', 'Enzo']\n",
        "Liste des notes :  [17, 14, 16, 16, 17, 13, 18, 15]\n",
        "\"\"\""
      ],
      "metadata": {
        "id": "kOYeuSVv_Hz1"
      },
      "execution_count": null,
      "outputs": []
    },
    {
      "cell_type": "markdown",
      "source": [
        "Exercice 23\n",
        "\n",
        "Ecrire un programme qui permet de trier un dictionnaire dans l'ordre croissant selon les valeurs et un autre programme selon l'ordre décroissant."
      ],
      "metadata": {
        "id": "U-pV4HG__MH7"
      }
    },
    {
      "cell_type": "code",
      "source": [
        "# Pour trier un dictionnaire par ses valeurs en Python, on peut utiliser la fonction sorted() \n",
        "# et lui transmettre le dictionnaire ainsi qu'une fonction clé qui renvoie la valeur à trier.\n",
        "# fonction qui fait un trie croissant d'un dictionnaire selon les valeurs\n",
        "def ascending(d):\n",
        "    sorted_d = sorted(d.items(), key=lambda x: x[1])\n",
        "    return sorted_d\n",
        " \n",
        "# fonction qui fait un trie décroissant d'un dictionnaire selon les valeurs\n",
        "def descending(d):\n",
        "    sorted_d = sorted(d.items(), key=lambda x: x[1], reverse=True)\n",
        "    return sorted_d\n",
        " \n",
        "# Exemple\n",
        "d = {'Python': 2, 'Java': 3, 'C++': 1}\n",
        "print(ascending(d)) # output: [('C++', 1), ('Python', 2), ('Java', 3)]\n",
        "print(descending(d)) # output: [('Java', 3), ('Python', 2), ('C++', 1)]"
      ],
      "metadata": {
        "id": "B7UMtUHD_flA"
      },
      "execution_count": null,
      "outputs": []
    },
    {
      "cell_type": "markdown",
      "source": [
        "Exercice 24\n",
        "\n",
        "Montrer comment peut on convertir un dictionnaire Python en une liste. prenez à titre d'exemple le cas du dictionnaire: \n",
        "```\n",
        "d = {'a': 1, 'b': 2, 'c': 3}\n",
        "```"
      ],
      "metadata": {
        "id": "BhDtiiAU_sRt"
      }
    },
    {
      "cell_type": "code",
      "source": [
        "# On peut convertir un dictionnaire Python en une liste avec différentes façon:\n",
        "\n",
        "# 1. Utilisez la méthode dict.items() pour obtenir une liste de tuples (clé, valeur) représentant les items du dictionnaire. Par exemple :\n",
        " \n",
        "d = {'a': 1, 'b': 2, 'c': 3}\n",
        "items = d.items()\n",
        "print(items)  # [('a', 1), ('b', 2), ('c', 3)]\n",
        "\n",
        "#2. Utilisez la fonction map() pour appliquer une fonction à chaque tuple de la liste items et retourner une liste de résultats. Par exemple,\n",
        "# si vous voulez créer une liste de tuples (v, k) à partir de la liste items, vous pouvez utiliser la fonction suivante :\n",
        "\n",
        "def flip_tuple(t):\n",
        "  return t[1], t[0]\n",
        " \n",
        "flipped = map(flip_tuple, items)\n",
        "print(list(flipped))  # [(1, 'a'), (2, 'b'), (3, 'c')]\n",
        "\n",
        "# 3. Si vous voulez simplement créer une liste de valeurs du dictionnaire, vous pouvez utiliser la fonction suivante :\n",
        "\n",
        "values = d.values()\n",
        "print(values)  # [1, 2, 3]\n",
        "\n",
        "# 4. Si vous voulez simplement créer une liste de clés du dictionnaire, vous pouvez utiliser la fonction suivante :\n",
        "\n",
        "keys = d.keys()\n",
        "print(keys)  # ['a', 'b', 'c']"
      ],
      "metadata": {
        "id": "y-DViCQA_8fV"
      },
      "execution_count": null,
      "outputs": []
    },
    {
      "cell_type": "markdown",
      "source": [
        "Exercice 25\n",
        "\n",
        "Voici un exercice qui combine les dictionnaires et les listes en Python:\n",
        "\n",
        "\n",
        "1.   Créez un dictionnaire appelé \"personnes\" qui contient les informations suivantes sur trois personnes : leur nom, leur âge et leur ville d'origine\n",
        "2.   Ajoutez une nouvelle personne au dictionnaire \"personnes\" en utilisant la méthode \"update()\".\n",
        "3.   Utilisez une boucle \"for\" pour parcourir le dictionnaire \"personnes\" et afficher les informations de chaque personne.\n",
        "4.   Créez une liste appelée \"villes\" qui contient les villes d'origine de chaque personne du dictionnaire \"personnes\". Utilisez la méthode \"values()\" pour accéder aux valeurs du dictionnaire.\n",
        "5.   Utilisez une boucle \"for\" pour parcourir la liste \"villes\" et afficher chaque ville.\n",
        "6.   Utilisez la méthode \"sort()\" pour trier la liste \"villes\" dans l'ordre alphabétique.\n",
        "7.   Utilisez la méthode \"count()\" pour compter le nombre de fois où chaque ville apparaît dans la liste \"villes\".\n",
        "8.   Utilisez la méthode \"items()\" pour parcourir les entrées du dictionnaire \"personnes\" et afficher le nom et l'âge de chaque personne.\n",
        "9.   Supprimez la première personne du dictionnaire \"personnes\" en utilisant la méthode \"pop()\""
      ],
      "metadata": {
        "id": "wjPreA9MAvoh"
      }
    },
    {
      "cell_type": "code",
      "source": [
        "# 1)- Créez un dictionnaire appelé \"personnes\" qui contient les informations suivantes sur trois personnes : leur nom, leur âge et leur ville d'origine.\n",
        "personnes = {\n",
        "    \"p1\": {\"nom\": \"Alice\", \"age\": 25, \"ville\": \"Paris\"},\n",
        "    \"p2\": {\"nom\": \"Bob\", \"age\": 30, \"ville\": \"Lyon\"},\n",
        "    \"p3\": {\"nom\": \"Charlie\", \"age\": 35, \"ville\": \"Marseille\"}\n",
        "}\n",
        "\n",
        "# 2) - Ajoutez une nouvelle personne au dictionnaire \"personnes\" en utilisant la méthode \"update()\".\n",
        "personnes.update({\"p4\": {\"nom\": \"David\", \"age\": 40, \"ville\": \"Bordeaux\"}})\n",
        "\n",
        "# 3) - Utilisez une boucle \"for\" pour parcourir le dictionnaire \"personnes\" et afficher les informations de chaque personne.\n",
        "for cle, valeur in personnes.items():\n",
        "    print(cle + \": \" + valeur[\"nom\"] + \", \" + str(valeur[\"age\"]) + \", \" + valeur[\"ville\"])\n",
        "\n",
        "# 4) - Créez une liste appelée \"villes\" qui contient les villes d'origine de chaque personne du dictionnaire \"personnes\". Utilisez la méthode \"values()\" pour accéder aux valeurs du dictionnaire.t\n",
        "villes = [p[\"ville\"] for p in personnes.values()]\n",
        "\n",
        "# 5) - Utilisez une boucle \"for\" pour parcourir la liste \"villes\" et afficher chaque ville.\n",
        "for ville in villes:\n",
        "    print(ville)\n",
        "\n",
        "# 6) - Utilisez la méthode \"sort()\" pour trier la liste \"villes\" dans l'ordre alphabétique.\n",
        "villes.sort()\n",
        "\n",
        "# 7) - Utilisez la méthode \"count()\" pour compter le nombre de fois où chaque ville apparaît dans la liste \"villes\".\n",
        "for ville in set(villes):\n",
        "    print(ville + \" : \" + str(villes.count(ville)))\n",
        "\n",
        "# 8)- Utilisez la méthode \"items()\" pour parcourir les entrées du dictionnaire \"personnes\" et afficher le nom et l'âge de chaque personne.\n",
        "for cle, valeur in personnes.items():\n",
        "    print(cle + \": \" + valeur[\"nom\"] + \", \" + str(valeur[\"age\"]))\n",
        "\n",
        "# 9) - Supprimez la première personne du dictionnaire \"personnes\" en utilisant la méthode \"pop()\".\n",
        "personnes.pop(\"p1\")"
      ],
      "metadata": {
        "id": "RBeLt4b9BmGi"
      },
      "execution_count": null,
      "outputs": []
    }
  ]
}